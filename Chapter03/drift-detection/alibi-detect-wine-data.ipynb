{
 "cells": [
  {
   "cell_type": "code",
   "execution_count": 1,
   "metadata": {},
   "outputs": [
    {
     "name": "stdout",
     "output_type": "stream",
     "text": [
      "Collecting alibi-detect\n",
      "  Using cached alibi_detect-0.12.0-py3-none-any.whl.metadata (28 kB)\n",
      "Requirement already satisfied: matplotlib<4.0.0,>=3.0.0 in /Users/gafnts/anaconda3/envs/ml/lib/python3.12/site-packages (from alibi-detect) (3.9.0)\n",
      "Requirement already satisfied: numpy<2.0.0,>=1.16.2 in /Users/gafnts/anaconda3/envs/ml/lib/python3.12/site-packages (from alibi-detect) (1.26.4)\n",
      "Requirement already satisfied: pandas<3.0.0,>=1.0.0 in /Users/gafnts/anaconda3/envs/ml/lib/python3.12/site-packages (from alibi-detect) (2.2.2)\n",
      "Requirement already satisfied: Pillow<11.0.0,>=5.4.1 in /Users/gafnts/anaconda3/envs/ml/lib/python3.12/site-packages (from alibi-detect) (10.3.0)\n",
      "Collecting opencv-python<5.0.0,>=3.2.0 (from alibi-detect)\n",
      "  Downloading opencv_python-4.10.0.82-cp37-abi3-macosx_11_0_arm64.whl.metadata (20 kB)\n",
      "Requirement already satisfied: scipy<2.0.0,>=1.3.0 in /Users/gafnts/anaconda3/envs/ml/lib/python3.12/site-packages (from alibi-detect) (1.13.1)\n",
      "Requirement already satisfied: scikit-image<0.23,>=0.19 in /Users/gafnts/anaconda3/envs/ml/lib/python3.12/site-packages (from alibi-detect) (0.22.0)\n",
      "Requirement already satisfied: scikit-learn<2.0.0,>=0.20.2 in /Users/gafnts/anaconda3/envs/ml/lib/python3.12/site-packages (from alibi-detect) (1.5.0)\n",
      "Requirement already satisfied: transformers<5.0.0,>=4.0.0 in /Users/gafnts/anaconda3/envs/ml/lib/python3.12/site-packages (from alibi-detect) (4.41.2)\n",
      "Requirement already satisfied: dill<0.4.0,>=0.3.0 in /Users/gafnts/anaconda3/envs/ml/lib/python3.12/site-packages (from alibi-detect) (0.3.8)\n",
      "Requirement already satisfied: tqdm<5.0.0,>=4.28.1 in /Users/gafnts/anaconda3/envs/ml/lib/python3.12/site-packages (from alibi-detect) (4.66.4)\n",
      "Requirement already satisfied: requests<3.0.0,>=2.21.0 in /Users/gafnts/anaconda3/envs/ml/lib/python3.12/site-packages (from alibi-detect) (2.32.3)\n",
      "Requirement already satisfied: pydantic<3.0.0,>=1.8.0 in /Users/gafnts/anaconda3/envs/ml/lib/python3.12/site-packages (from alibi-detect) (2.7.3)\n",
      "Collecting toml<1.0.0,>=0.10.1 (from alibi-detect)\n",
      "  Downloading toml-0.10.2-py2.py3-none-any.whl.metadata (7.1 kB)\n",
      "Requirement already satisfied: catalogue<3.0.0,>=2.0.0 in /Users/gafnts/anaconda3/envs/ml/lib/python3.12/site-packages (from alibi-detect) (2.0.10)\n",
      "Collecting numba!=0.54.0,<0.60.0,>=0.50.0 (from alibi-detect)\n",
      "  Downloading numba-0.59.1-cp312-cp312-macosx_11_0_arm64.whl.metadata (2.7 kB)\n",
      "Requirement already satisfied: typing-extensions>=3.7.4.3 in /Users/gafnts/anaconda3/envs/ml/lib/python3.12/site-packages (from alibi-detect) (4.12.1)\n",
      "Requirement already satisfied: contourpy>=1.0.1 in /Users/gafnts/anaconda3/envs/ml/lib/python3.12/site-packages (from matplotlib<4.0.0,>=3.0.0->alibi-detect) (1.2.1)\n",
      "Requirement already satisfied: cycler>=0.10 in /Users/gafnts/anaconda3/envs/ml/lib/python3.12/site-packages (from matplotlib<4.0.0,>=3.0.0->alibi-detect) (0.12.1)\n",
      "Requirement already satisfied: fonttools>=4.22.0 in /Users/gafnts/anaconda3/envs/ml/lib/python3.12/site-packages (from matplotlib<4.0.0,>=3.0.0->alibi-detect) (4.53.0)\n",
      "Requirement already satisfied: kiwisolver>=1.3.1 in /Users/gafnts/anaconda3/envs/ml/lib/python3.12/site-packages (from matplotlib<4.0.0,>=3.0.0->alibi-detect) (1.4.5)\n",
      "Requirement already satisfied: packaging>=20.0 in /Users/gafnts/anaconda3/envs/ml/lib/python3.12/site-packages (from matplotlib<4.0.0,>=3.0.0->alibi-detect) (24.0)\n",
      "Requirement already satisfied: pyparsing>=2.3.1 in /Users/gafnts/anaconda3/envs/ml/lib/python3.12/site-packages (from matplotlib<4.0.0,>=3.0.0->alibi-detect) (3.1.2)\n",
      "Requirement already satisfied: python-dateutil>=2.7 in /Users/gafnts/anaconda3/envs/ml/lib/python3.12/site-packages (from matplotlib<4.0.0,>=3.0.0->alibi-detect) (2.9.0)\n",
      "Collecting llvmlite<0.43,>=0.42.0dev0 (from numba!=0.54.0,<0.60.0,>=0.50.0->alibi-detect)\n",
      "  Downloading llvmlite-0.42.0-cp312-cp312-macosx_11_0_arm64.whl.metadata (4.8 kB)\n",
      "Requirement already satisfied: pytz>=2020.1 in /Users/gafnts/anaconda3/envs/ml/lib/python3.12/site-packages (from pandas<3.0.0,>=1.0.0->alibi-detect) (2024.1)\n",
      "Requirement already satisfied: tzdata>=2022.7 in /Users/gafnts/anaconda3/envs/ml/lib/python3.12/site-packages (from pandas<3.0.0,>=1.0.0->alibi-detect) (2024.1)\n",
      "Requirement already satisfied: annotated-types>=0.4.0 in /Users/gafnts/anaconda3/envs/ml/lib/python3.12/site-packages (from pydantic<3.0.0,>=1.8.0->alibi-detect) (0.7.0)\n",
      "Requirement already satisfied: pydantic-core==2.18.4 in /Users/gafnts/anaconda3/envs/ml/lib/python3.12/site-packages (from pydantic<3.0.0,>=1.8.0->alibi-detect) (2.18.4)\n",
      "Requirement already satisfied: charset-normalizer<4,>=2 in /Users/gafnts/anaconda3/envs/ml/lib/python3.12/site-packages (from requests<3.0.0,>=2.21.0->alibi-detect) (3.3.2)\n",
      "Requirement already satisfied: idna<4,>=2.5 in /Users/gafnts/anaconda3/envs/ml/lib/python3.12/site-packages (from requests<3.0.0,>=2.21.0->alibi-detect) (3.7)\n",
      "Requirement already satisfied: urllib3<3,>=1.21.1 in /Users/gafnts/anaconda3/envs/ml/lib/python3.12/site-packages (from requests<3.0.0,>=2.21.0->alibi-detect) (2.2.1)\n",
      "Requirement already satisfied: certifi>=2017.4.17 in /Users/gafnts/anaconda3/envs/ml/lib/python3.12/site-packages (from requests<3.0.0,>=2.21.0->alibi-detect) (2024.6.2)\n",
      "Requirement already satisfied: networkx>=2.8 in /Users/gafnts/anaconda3/envs/ml/lib/python3.12/site-packages (from scikit-image<0.23,>=0.19->alibi-detect) (3.3)\n",
      "Requirement already satisfied: imageio>=2.27 in /Users/gafnts/anaconda3/envs/ml/lib/python3.12/site-packages (from scikit-image<0.23,>=0.19->alibi-detect) (2.34.1)\n",
      "Requirement already satisfied: tifffile>=2022.8.12 in /Users/gafnts/anaconda3/envs/ml/lib/python3.12/site-packages (from scikit-image<0.23,>=0.19->alibi-detect) (2024.5.22)\n",
      "Requirement already satisfied: lazy_loader>=0.3 in /Users/gafnts/anaconda3/envs/ml/lib/python3.12/site-packages (from scikit-image<0.23,>=0.19->alibi-detect) (0.4)\n",
      "Requirement already satisfied: joblib>=1.2.0 in /Users/gafnts/anaconda3/envs/ml/lib/python3.12/site-packages (from scikit-learn<2.0.0,>=0.20.2->alibi-detect) (1.4.2)\n",
      "Requirement already satisfied: threadpoolctl>=3.1.0 in /Users/gafnts/anaconda3/envs/ml/lib/python3.12/site-packages (from scikit-learn<2.0.0,>=0.20.2->alibi-detect) (3.5.0)\n",
      "Requirement already satisfied: filelock in /Users/gafnts/anaconda3/envs/ml/lib/python3.12/site-packages (from transformers<5.0.0,>=4.0.0->alibi-detect) (3.14.0)\n",
      "Requirement already satisfied: huggingface-hub<1.0,>=0.23.0 in /Users/gafnts/anaconda3/envs/ml/lib/python3.12/site-packages (from transformers<5.0.0,>=4.0.0->alibi-detect) (0.23.2)\n",
      "Requirement already satisfied: pyyaml>=5.1 in /Users/gafnts/anaconda3/envs/ml/lib/python3.12/site-packages (from transformers<5.0.0,>=4.0.0->alibi-detect) (6.0.1)\n",
      "Requirement already satisfied: regex!=2019.12.17 in /Users/gafnts/anaconda3/envs/ml/lib/python3.12/site-packages (from transformers<5.0.0,>=4.0.0->alibi-detect) (2024.5.15)\n",
      "Requirement already satisfied: tokenizers<0.20,>=0.19 in /Users/gafnts/anaconda3/envs/ml/lib/python3.12/site-packages (from transformers<5.0.0,>=4.0.0->alibi-detect) (0.19.1)\n",
      "Requirement already satisfied: safetensors>=0.4.1 in /Users/gafnts/anaconda3/envs/ml/lib/python3.12/site-packages (from transformers<5.0.0,>=4.0.0->alibi-detect) (0.4.3)\n",
      "Requirement already satisfied: fsspec>=2023.5.0 in /Users/gafnts/anaconda3/envs/ml/lib/python3.12/site-packages (from huggingface-hub<1.0,>=0.23.0->transformers<5.0.0,>=4.0.0->alibi-detect) (2024.6.0)\n",
      "Requirement already satisfied: six>=1.5 in /Users/gafnts/anaconda3/envs/ml/lib/python3.12/site-packages (from python-dateutil>=2.7->matplotlib<4.0.0,>=3.0.0->alibi-detect) (1.16.0)\n",
      "Using cached alibi_detect-0.12.0-py3-none-any.whl (381 kB)\n",
      "Downloading numba-0.59.1-cp312-cp312-macosx_11_0_arm64.whl (2.6 MB)\n",
      "\u001b[2K   \u001b[90m━━━━━━━━━━━━━━━━━━━━━━━━━━━━━━━━━━━━━━━━\u001b[0m \u001b[32m2.6/2.6 MB\u001b[0m \u001b[31m1.1 MB/s\u001b[0m eta \u001b[36m0:00:00\u001b[0m00:01\u001b[0m00:01\u001b[0m0m\n",
      "\u001b[?25hDownloading opencv_python-4.10.0.82-cp37-abi3-macosx_11_0_arm64.whl (54.8 MB)\n",
      "\u001b[2K   \u001b[90m━━━━━━━━━━━━━━━━━━━━━━━━━━━━━━━━━━━━━━━━\u001b[0m \u001b[32m54.8/54.8 MB\u001b[0m \u001b[31m687.1 kB/s\u001b[0m eta \u001b[36m0:00:00\u001b[0m00:01\u001b[0m00:02\u001b[0m\n",
      "\u001b[?25hDownloading toml-0.10.2-py2.py3-none-any.whl (16 kB)\n",
      "Downloading llvmlite-0.42.0-cp312-cp312-macosx_11_0_arm64.whl (28.8 MB)\n",
      "\u001b[2K   \u001b[90m━━━━━━━━━━━━━━━━━━━━━━━━━━━━━━━━━━━━━━━━\u001b[0m \u001b[32m28.8/28.8 MB\u001b[0m \u001b[31m1.0 MB/s\u001b[0m eta \u001b[36m0:00:00\u001b[0m00:01\u001b[0m0m00:01\u001b[0m\n",
      "\u001b[?25hInstalling collected packages: toml, opencv-python, llvmlite, numba, alibi-detect\n",
      "Successfully installed alibi-detect-0.12.0 llvmlite-0.42.0 numba-0.59.1 opencv-python-4.10.0.82 toml-0.10.2\n"
     ]
    }
   ],
   "source": [
    "!pip install alibi-detect"
   ]
  },
  {
   "cell_type": "code",
   "execution_count": 3,
   "metadata": {},
   "outputs": [
    {
     "name": "stderr",
     "output_type": "stream",
     "text": [
      "Matplotlib is building the font cache; this may take a moment.\n"
     ]
    },
    {
     "ename": "ModuleNotFoundError",
     "evalue": "No module named 'alibi_detect'",
     "output_type": "error",
     "traceback": [
      "\u001b[0;31m---------------------------------------------------------------------------\u001b[0m",
      "\u001b[0;31mModuleNotFoundError\u001b[0m                       Traceback (most recent call last)",
      "Cell \u001b[0;32mIn[3], line 11\u001b[0m\n\u001b[1;32m      8\u001b[0m \u001b[38;5;28;01mfrom\u001b[39;00m \u001b[38;5;21;01msklearn\u001b[39;00m\u001b[38;5;21;01m.\u001b[39;00m\u001b[38;5;21;01mmodel_selection\u001b[39;00m \u001b[38;5;28;01mimport\u001b[39;00m train_test_split\n\u001b[1;32m     10\u001b[0m \u001b[38;5;28;01mimport\u001b[39;00m \u001b[38;5;21;01malibi\u001b[39;00m\n\u001b[0;32m---> 11\u001b[0m \u001b[38;5;28;01mfrom\u001b[39;00m \u001b[38;5;21;01malibi_detect\u001b[39;00m\u001b[38;5;21;01m.\u001b[39;00m\u001b[38;5;21;01mcd\u001b[39;00m \u001b[38;5;28;01mimport\u001b[39;00m ChiSquareDrift, TabularDrift\n\u001b[1;32m     12\u001b[0m \u001b[38;5;28;01mfrom\u001b[39;00m \u001b[38;5;21;01malibi_detect\u001b[39;00m\u001b[38;5;21;01m.\u001b[39;00m\u001b[38;5;21;01mutils\u001b[39;00m\u001b[38;5;21;01m.\u001b[39;00m\u001b[38;5;21;01msaving\u001b[39;00m \u001b[38;5;28;01mimport\u001b[39;00m save_detector, load_detector\n",
      "\u001b[0;31mModuleNotFoundError\u001b[0m: No module named 'alibi_detect'"
     ]
    }
   ],
   "source": [
    "from sklearn.model_selection import train_test_split\n",
    "from sklearn.preprocessing import StandardScaler\n",
    "from sklearn.linear_model import RidgeClassifier\n",
    "from sklearn import metrics\n",
    "from sklearn.pipeline import make_pipeline\n",
    "\n",
    "from sklearn.datasets import load_wine\n",
    "from sklearn.model_selection import train_test_split\n",
    "\n",
    "import alibi\n",
    "from alibi_detect.cd import ChiSquareDrift, TabularDrift\n",
    "from alibi_detect.utils.saving import save_detector, load_detector\n"
   ]
  },
  {
   "cell_type": "code",
   "execution_count": null,
   "metadata": {},
   "outputs": [],
   "source": [
    "# Grab the data\n",
    "wine_data = load_wine()\n",
    "feature_names = wine_data.feature_names\n",
    "X, y = wine_data.data, wine_data.target \n",
    "\n",
    "# Make a 50/50 reference/test split\n",
    "X_ref, X_test, y_ref, y_test = train_test_split(X, y,\n",
    "                                                test_size=0.50,\n",
    "                                                random_state=42)"
   ]
  },
  {
   "cell_type": "code",
   "execution_count": null,
   "metadata": {},
   "outputs": [],
   "source": [
    "# Initialise the detector\n",
    "cd = TabularDrift(p_val=.05, X_ref=X_ref)"
   ]
  },
  {
   "cell_type": "code",
   "execution_count": null,
   "metadata": {},
   "outputs": [],
   "source": [
    "# Check for drift \n",
    "preds = cd.predict(X_test)\n",
    "labels = ['No', 'Yes']\n",
    "print('Drift: {}'.format(labels[preds['data']['is_drift']]))"
   ]
  },
  {
   "cell_type": "code",
   "execution_count": null,
   "metadata": {},
   "outputs": [],
   "source": [
    "# Check for drift - X_test_cal_error is simulated calibration error test set\n",
    "X_test_cal_error = 1.1*X_test\n",
    "preds = cd.predict(X_test_cal_error)\n",
    "labels = ['No', 'Yes']\n",
    "print('Drift: {}'.format(labels[preds['data']['is_drift']]))"
   ]
  },
  {
   "cell_type": "code",
   "execution_count": null,
   "metadata": {},
   "outputs": [],
   "source": [
    "# check for drift at the level of features\n",
    "fpreds = cd.predict(X_test+4, drift_type='feature')"
   ]
  },
  {
   "cell_type": "code",
   "execution_count": null,
   "metadata": {},
   "outputs": [],
   "source": [
    "results = []\n",
    "for f in range(cd.n_features):\n",
    "    \n",
    "    stat = 'K-S' #all numeric features for this dataset\n",
    "    fname = feature_names[f]\n",
    "    is_drift = fpreds['data']['is_drift'][f]\n",
    "    stat_val, p_val = fpreds['data']['distance'][f], fpreds['data']['p_val'][f]\n",
    "    \n",
    "    results.append(\n",
    "        {\n",
    "            'feature': fname,\n",
    "            'statistic': 'K-S',\n",
    "            'statisticValue': float(stat_val),\n",
    "            'driftResult': labels[is_drift],\n",
    "            'pValue': float(p_val)\n",
    "        }\n",
    "    )"
   ]
  },
  {
   "cell_type": "code",
   "execution_count": null,
   "metadata": {},
   "outputs": [],
   "source": [
    "print(json.dumps(results, indent=4, sort_keys=True))"
   ]
  }
 ],
 "metadata": {
  "kernelspec": {
   "display_name": "ml",
   "language": "python",
   "name": "python3"
  },
  "language_info": {
   "codemirror_mode": {
    "name": "ipython",
    "version": 3
   },
   "file_extension": ".py",
   "mimetype": "text/x-python",
   "name": "python",
   "nbconvert_exporter": "python",
   "pygments_lexer": "ipython3",
   "version": "3.12.3"
  }
 },
 "nbformat": 4,
 "nbformat_minor": 4
}
